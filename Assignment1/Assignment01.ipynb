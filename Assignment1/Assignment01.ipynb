{
 "cells": [
  {
   "cell_type": "markdown",
   "metadata": {},
   "source": [
    "# Question 1"
   ]
  },
  {
   "cell_type": "code",
   "execution_count": 1,
   "metadata": {
    "collapsed": true
   },
   "outputs": [],
   "source": [
    "L1 = list(range(21,500,21))\n",
    "print('The mean of numbers is : {}'.format(sum(L1)/len(L1)))"
   ]
  },
  {
   "cell_type": "code",
   "execution_count": 6,
   "metadata": {
    "collapsed": false
   },
   "outputs": [
    {
     "data": {
      "text/plain": [
       "23"
      ]
     },
     "execution_count": 6,
     "metadata": {},
     "output_type": "execute_result"
    }
   ],
   "source": [
    "len(L1)"
   ]
  },
  {
   "cell_type": "code",
   "execution_count": 52,
   "metadata": {
    "collapsed": false
   },
   "outputs": [
    {
     "name": "stdout",
     "output_type": "stream",
     "text": [
      "1st quartile is :\t126 \n",
      "2nd quartile is :\t252 \n",
      "3rd quartile is :\t378\n"
     ]
    }
   ],
   "source": [
    "print('1st quartile is :\\t{} \\n2nd quartile is :\\t{} \\n3rd quartile is :\\t{}'.format(L1[len(L1)//4],L1[len(L1)//2],L1[3*len(L1)//4]))"
   ]
  },
  {
   "cell_type": "markdown",
   "metadata": {},
   "source": [
    "# Question 2"
   ]
  },
  {
   "cell_type": "code",
   "execution_count": 7,
   "metadata": {
    "collapsed": true
   },
   "outputs": [],
   "source": [
    "with open('ques2.txt') as f:\n",
    "    stg = f.read()"
   ]
  },
  {
   "cell_type": "code",
   "execution_count": 28,
   "metadata": {
    "collapsed": false
   },
   "outputs": [
    {
     "name": "stdout",
     "output_type": "stream",
     "text": [
      "The number of words occuring in ques2.txt is \t\t309\n"
     ]
    }
   ],
   "source": [
    "stg_list = stg.split(' ')\n",
    "print('The number of words occuring in ques2.txt is \\t\\t{}'.format(len(stg_list)))"
   ]
  },
  {
   "cell_type": "code",
   "execution_count": 12,
   "metadata": {
    "collapsed": true
   },
   "outputs": [],
   "source": [
    "len_list = []\n",
    "for word in stg_list:\n",
    "    len_list.append(len(word))"
   ]
  },
  {
   "cell_type": "code",
   "execution_count": 26,
   "metadata": {
    "collapsed": false
   },
   "outputs": [
    {
     "name": "stdout",
     "output_type": "stream",
     "text": [
      "The median of the string is \t5 \n",
      "The mode of the string is \t2 \n",
      "The average is \t\t\t5.62\n"
     ]
    }
   ],
   "source": [
    "import statistics\n",
    "print('The median of the string is \\t{} \\nThe mode of the string is \\t{} \\nThe average is \\t\\t\\t{:.2f}'.format(statistics.median(len_list),\n",
    "                                                                                                 statistics.mode(len_list),\n",
    "                                                                                                statistics.mean(len_list)) )"
   ]
  },
  {
   "cell_type": "markdown",
   "metadata": {},
   "source": [
    "## Question 3"
   ]
  },
  {
   "cell_type": "code",
   "execution_count": 35,
   "metadata": {
    "collapsed": false,
    "scrolled": true
   },
   "outputs": [],
   "source": [
    "import glob\n",
    "import json\n",
    "q3_dic = {}\n",
    "for file_name in glob.glob('DataAnalysisPython/Lecture-03/jsons/*.json'):\n",
    "    user_id = file_name.split('/')[3].split('.')[0]\n",
    "    with open(file_name) as f:\n",
    "        jsn = json.load(f)\n",
    "    if 'Unknown' in json.dumps(jsn):\n",
    "        q3_dic[user_id] = 0\n",
    "    else :\n",
    "        q3_dic[user_id] = 1"
   ]
  },
  {
   "cell_type": "code",
   "execution_count": 40,
   "metadata": {
    "collapsed": false
   },
   "outputs": [
    {
     "name": "stdout",
     "output_type": "stream",
     "text": [
      "GBT1NRJY1BM6fj5 \t----->\t\t 0\n",
      "r24op22O1BunLZ5 \t----->\t\t 1\n",
      "QWjv0Rlp1BnxWG2 \t----->\t\t 0\n",
      "WpWkI1R41BL07J5 \t----->\t\t 0\n",
      "RgMORvt81AMI4r5 \t----->\t\t 1\n"
     ]
    }
   ],
   "source": [
    "for u_id in list(q3_dic.keys())[:5]:\n",
    "    print('{} \\t----->\\t\\t {}'.format(u_id,q3_dic[u_id]))"
   ]
  },
  {
   "cell_type": "markdown",
   "metadata": {},
   "source": [
    "## Question 4 "
   ]
  },
  {
   "cell_type": "code",
   "execution_count": 42,
   "metadata": {
    "collapsed": false
   },
   "outputs": [],
   "source": [
    "out_dic = {}\n",
    "for file_name in glob.glob('DataAnalysisPython/Lecture-03/jsons/*.json'):\n",
    "    user_id = file_name.split('/')[3].split('.')[0]\n",
    "    with open(file_name) as f:\n",
    "        jsn = json.load(f)\n",
    "    if 'Unknown' in json.dumps(jsn):\n",
    "        out_dic[user_id] = {'first':0,'third':0}\n",
    "    else :\n",
    "        ret_seg = jsn['retargetingSegments']\n",
    "        f_list,t_list = 0,0\n",
    "        for seg_dict in ret_seg:\n",
    "            if(seg_dict['segmentUid'].startswith('0')):\n",
    "                f_list+=1\n",
    "            else:\n",
    "                t_list+=1\n",
    "        out_dic[user_id] = {'first':f_list,'third':t_list}"
   ]
  },
  {
   "cell_type": "code",
   "execution_count": 44,
   "metadata": {
    "collapsed": false
   },
   "outputs": [
    {
     "name": "stdout",
     "output_type": "stream",
     "text": [
      "GBT1NRJY1BM6fj5 \t----->\t\t First :0 \tand\t Third :0\n",
      "r24op22O1BunLZ5 \t----->\t\t First :217 \tand\t Third :58\n",
      "QWjv0Rlp1BnxWG2 \t----->\t\t First :0 \tand\t Third :0\n",
      "WpWkI1R41BL07J5 \t----->\t\t First :0 \tand\t Third :0\n",
      "RgMORvt81AMI4r5 \t----->\t\t First :3 \tand\t Third :0\n"
     ]
    }
   ],
   "source": [
    "for u_id in list(out_dic.keys())[:5]:\n",
    "    print('{} \\t----->\\t\\t First :{} \\tand\\t Third :{}'.format(u_id,out_dic[u_id]['first'],out_dic[u_id]['third']))"
   ]
  },
  {
   "cell_type": "code",
   "execution_count": null,
   "metadata": {
    "collapsed": true
   },
   "outputs": [],
   "source": []
  },
  {
   "cell_type": "code",
   "execution_count": null,
   "metadata": {
    "collapsed": true
   },
   "outputs": [],
   "source": []
  },
  {
   "cell_type": "code",
   "execution_count": 45,
   "metadata": {
    "collapsed": true
   },
   "outputs": [],
   "source": [
    "l = [1,2,3,4,5,6,7,8,9,10,11]"
   ]
  },
  {
   "cell_type": "code",
   "execution_count": null,
   "metadata": {
    "collapsed": true
   },
   "outputs": [],
   "source": [
    "{0,1, 2 ,3,4,5,6,7, 8 ,9,10}"
   ]
  },
  {
   "cell_type": "code",
   "execution_count": 51,
   "metadata": {
    "collapsed": false
   },
   "outputs": [
    {
     "data": {
      "text/plain": [
       "9"
      ]
     },
     "execution_count": 51,
     "metadata": {},
     "output_type": "execute_result"
    }
   ],
   "source": [
    "l[3*len(l)//4]"
   ]
  }
 ],
 "metadata": {
  "kernelspec": {
   "display_name": "Python 3",
   "language": "python",
   "name": "python3"
  },
  "language_info": {
   "codemirror_mode": {
    "name": "ipython",
    "version": 3
   },
   "file_extension": ".py",
   "mimetype": "text/x-python",
   "name": "python",
   "nbconvert_exporter": "python",
   "pygments_lexer": "ipython3",
   "version": "3.5.1"
  }
 },
 "nbformat": 4,
 "nbformat_minor": 0
}
